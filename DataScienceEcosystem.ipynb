{
 "cells": [
  {
   "cell_type": "markdown",
   "id": "e3e34ea7",
   "metadata": {},
   "source": [
    "# Data Science Tools and Ecosystem"
   ]
  },
  {
   "cell_type": "markdown",
   "id": "ab15a640",
   "metadata": {},
   "source": [
    "In this notebook, Data Science Tools and Ecosystem are summarized."
   ]
  },
  {
   "cell_type": "markdown",
   "id": "8c37fe86",
   "metadata": {},
   "source": [
    "Objectives:"
   ]
  },
  {
   "cell_type": "markdown",
   "id": "0e31fb83",
   "metadata": {},
   "source": [
    "* Some of the popular languages that Data Scientists use are:\n",
    "* Some of the commonly used libraries used by Data Scientists include:\n",
    "* Data Science Tools"
   ]
  },
  {
   "cell_type": "markdown",
   "id": "6cb85a57",
   "metadata": {},
   "source": [
    "Some of the popular languages that Data Scientists use are:\n"
   ]
  },
  {
   "cell_type": "markdown",
   "id": "99518963",
   "metadata": {},
   "source": [
    "1. Python\n",
    "2. R\n",
    "3. JSON\n"
   ]
  },
  {
   "cell_type": "markdown",
   "id": "c8d8fcdd",
   "metadata": {},
   "source": [
    "Some of the commonly used libraries used by Data Scientists include:"
   ]
  },
  {
   "cell_type": "markdown",
   "id": "28f34c24",
   "metadata": {},
   "source": [
    "1. Pandas\n",
    "2. Plotly\n",
    "3. Scipy"
   ]
  },
  {
   "cell_type": "markdown",
   "id": "da3fa2ec",
   "metadata": {},
   "source": [
    "| Data Science Tools | \n",
    "|--------|\n",
    "|  Apache Spark  | \n",
    "| Jupyter Notebook   |  \n",
    "|  Tenser Fow  |  "
   ]
  },
  {
   "cell_type": "markdown",
   "id": "8811dad4",
   "metadata": {},
   "source": [
    "### Below are a few examples of evaluating arithmetic expressions in Python\n"
   ]
  },
  {
   "cell_type": "code",
   "execution_count": 3,
   "id": "3eb59709",
   "metadata": {},
   "outputs": [
    {
     "data": {
      "text/plain": [
       "17"
      ]
     },
     "execution_count": 3,
     "metadata": {},
     "output_type": "execute_result"
    }
   ],
   "source": [
    "(3*4)+5"
   ]
  },
  {
   "cell_type": "markdown",
   "id": "3ac0912d",
   "metadata": {},
   "source": [
    "This will convert 200 minutes to hours by diving by 60"
   ]
  },
  {
   "cell_type": "code",
   "execution_count": 4,
   "id": "bcbe6eb6",
   "metadata": {},
   "outputs": [
    {
     "data": {
      "text/plain": [
       "3.3333333333333335"
      ]
     },
     "execution_count": 4,
     "metadata": {},
     "output_type": "execute_result"
    }
   ],
   "source": [
    "200/60"
   ]
  },
  {
   "cell_type": "markdown",
   "id": "3745f4db",
   "metadata": {},
   "source": [
    "## Author\n",
    "    Rutwik"
   ]
  },
  {
   "cell_type": "code",
   "execution_count": null,
   "id": "916ea73f",
   "metadata": {},
   "outputs": [],
   "source": []
  }
 ],
 "metadata": {
  "kernelspec": {
   "display_name": "Python 3 (ipykernel)",
   "language": "python",
   "name": "python3"
  },
  "language_info": {
   "codemirror_mode": {
    "name": "ipython",
    "version": 3
   },
   "file_extension": ".py",
   "mimetype": "text/x-python",
   "name": "python",
   "nbconvert_exporter": "python",
   "pygments_lexer": "ipython3",
   "version": "3.11.5"
  }
 },
 "nbformat": 4,
 "nbformat_minor": 5
}
